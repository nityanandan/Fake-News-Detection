{
 "cells": [
  {
   "cell_type": "markdown",
   "metadata": {},
   "source": [
    "# Fake News Detection"
   ]
  },
  {
   "cell_type": "code",
   "execution_count": 1,
   "metadata": {},
   "outputs": [],
   "source": [
    "# Importing necessary libraries\n",
    "\n",
    "import os\n",
    "import pandas as pd\n",
    "import numpy as np\n",
    "import sklearn\n",
    "import nltk\n",
    "import warnings\n",
    "warnings.filterwarnings(\"ignore\")"
   ]
  },
  {
   "cell_type": "markdown",
   "metadata": {},
   "source": [
    "### Importing the datasets"
   ]
  },
  {
   "cell_type": "code",
   "execution_count": 2,
   "metadata": {},
   "outputs": [],
   "source": [
    "df = os.chdir(\"D:\\\\Naveen\\\\Interview Assignments\\\\TomTom\")"
   ]
  },
  {
   "cell_type": "code",
   "execution_count": 3,
   "metadata": {},
   "outputs": [
    {
     "data": {
      "text/html": [
       "<div>\n",
       "<style scoped>\n",
       "    .dataframe tbody tr th:only-of-type {\n",
       "        vertical-align: middle;\n",
       "    }\n",
       "\n",
       "    .dataframe tbody tr th {\n",
       "        vertical-align: top;\n",
       "    }\n",
       "\n",
       "    .dataframe thead th {\n",
       "        text-align: right;\n",
       "    }\n",
       "</style>\n",
       "<table border=\"1\" class=\"dataframe\">\n",
       "  <thead>\n",
       "    <tr style=\"text-align: right;\">\n",
       "      <th></th>\n",
       "      <th>id</th>\n",
       "      <th>title</th>\n",
       "      <th>author</th>\n",
       "      <th>text</th>\n",
       "      <th>label</th>\n",
       "    </tr>\n",
       "  </thead>\n",
       "  <tbody>\n",
       "    <tr>\n",
       "      <th>0</th>\n",
       "      <td>0</td>\n",
       "      <td>House Dem Aide: We Didn’t Even See Comey’s Let...</td>\n",
       "      <td>Darrell Lucus</td>\n",
       "      <td>House Dem Aide: We Didn’t Even See Comey’s Let...</td>\n",
       "      <td>1</td>\n",
       "    </tr>\n",
       "    <tr>\n",
       "      <th>1</th>\n",
       "      <td>1</td>\n",
       "      <td>FLYNN: Hillary Clinton, Big Woman on Campus - ...</td>\n",
       "      <td>Daniel J. Flynn</td>\n",
       "      <td>Ever get the feeling your life circles the rou...</td>\n",
       "      <td>0</td>\n",
       "    </tr>\n",
       "    <tr>\n",
       "      <th>2</th>\n",
       "      <td>2</td>\n",
       "      <td>Why the Truth Might Get You Fired</td>\n",
       "      <td>Consortiumnews.com</td>\n",
       "      <td>Why the Truth Might Get You Fired October 29, ...</td>\n",
       "      <td>1</td>\n",
       "    </tr>\n",
       "    <tr>\n",
       "      <th>3</th>\n",
       "      <td>3</td>\n",
       "      <td>15 Civilians Killed In Single US Airstrike Hav...</td>\n",
       "      <td>Jessica Purkiss</td>\n",
       "      <td>Videos 15 Civilians Killed In Single US Airstr...</td>\n",
       "      <td>1</td>\n",
       "    </tr>\n",
       "    <tr>\n",
       "      <th>4</th>\n",
       "      <td>4</td>\n",
       "      <td>Iranian woman jailed for fictional unpublished...</td>\n",
       "      <td>Howard Portnoy</td>\n",
       "      <td>Print \\nAn Iranian woman has been sentenced to...</td>\n",
       "      <td>1</td>\n",
       "    </tr>\n",
       "  </tbody>\n",
       "</table>\n",
       "</div>"
      ],
      "text/plain": [
       "   id                                              title              author  \\\n",
       "0   0  House Dem Aide: We Didn’t Even See Comey’s Let...       Darrell Lucus   \n",
       "1   1  FLYNN: Hillary Clinton, Big Woman on Campus - ...     Daniel J. Flynn   \n",
       "2   2                  Why the Truth Might Get You Fired  Consortiumnews.com   \n",
       "3   3  15 Civilians Killed In Single US Airstrike Hav...     Jessica Purkiss   \n",
       "4   4  Iranian woman jailed for fictional unpublished...      Howard Portnoy   \n",
       "\n",
       "                                                text  label  \n",
       "0  House Dem Aide: We Didn’t Even See Comey’s Let...      1  \n",
       "1  Ever get the feeling your life circles the rou...      0  \n",
       "2  Why the Truth Might Get You Fired October 29, ...      1  \n",
       "3  Videos 15 Civilians Killed In Single US Airstr...      1  \n",
       "4  Print \\nAn Iranian woman has been sentenced to...      1  "
      ]
     },
     "execution_count": 3,
     "metadata": {},
     "output_type": "execute_result"
    }
   ],
   "source": [
    "train = pd.read_csv(\"train.csv\")\n",
    "train.head()"
   ]
  },
  {
   "cell_type": "code",
   "execution_count": 4,
   "metadata": {},
   "outputs": [
    {
     "data": {
      "text/html": [
       "<div>\n",
       "<style scoped>\n",
       "    .dataframe tbody tr th:only-of-type {\n",
       "        vertical-align: middle;\n",
       "    }\n",
       "\n",
       "    .dataframe tbody tr th {\n",
       "        vertical-align: top;\n",
       "    }\n",
       "\n",
       "    .dataframe thead th {\n",
       "        text-align: right;\n",
       "    }\n",
       "</style>\n",
       "<table border=\"1\" class=\"dataframe\">\n",
       "  <thead>\n",
       "    <tr style=\"text-align: right;\">\n",
       "      <th></th>\n",
       "      <th>id</th>\n",
       "      <th>title</th>\n",
       "      <th>author</th>\n",
       "      <th>text</th>\n",
       "    </tr>\n",
       "  </thead>\n",
       "  <tbody>\n",
       "    <tr>\n",
       "      <th>0</th>\n",
       "      <td>20800</td>\n",
       "      <td>Specter of Trump Loosens Tongues, if Not Purse...</td>\n",
       "      <td>David Streitfeld</td>\n",
       "      <td>PALO ALTO, Calif.  —   After years of scorning...</td>\n",
       "    </tr>\n",
       "    <tr>\n",
       "      <th>1</th>\n",
       "      <td>20801</td>\n",
       "      <td>Russian warships ready to strike terrorists ne...</td>\n",
       "      <td>NaN</td>\n",
       "      <td>Russian warships ready to strike terrorists ne...</td>\n",
       "    </tr>\n",
       "    <tr>\n",
       "      <th>2</th>\n",
       "      <td>20802</td>\n",
       "      <td>#NoDAPL: Native American Leaders Vow to Stay A...</td>\n",
       "      <td>Common Dreams</td>\n",
       "      <td>Videos #NoDAPL: Native American Leaders Vow to...</td>\n",
       "    </tr>\n",
       "    <tr>\n",
       "      <th>3</th>\n",
       "      <td>20803</td>\n",
       "      <td>Tim Tebow Will Attempt Another Comeback, This ...</td>\n",
       "      <td>Daniel Victor</td>\n",
       "      <td>If at first you don’t succeed, try a different...</td>\n",
       "    </tr>\n",
       "    <tr>\n",
       "      <th>4</th>\n",
       "      <td>20804</td>\n",
       "      <td>Keiser Report: Meme Wars (E995)</td>\n",
       "      <td>Truth Broadcast Network</td>\n",
       "      <td>42 mins ago 1 Views 0 Comments 0 Likes 'For th...</td>\n",
       "    </tr>\n",
       "  </tbody>\n",
       "</table>\n",
       "</div>"
      ],
      "text/plain": [
       "      id                                              title  \\\n",
       "0  20800  Specter of Trump Loosens Tongues, if Not Purse...   \n",
       "1  20801  Russian warships ready to strike terrorists ne...   \n",
       "2  20802  #NoDAPL: Native American Leaders Vow to Stay A...   \n",
       "3  20803  Tim Tebow Will Attempt Another Comeback, This ...   \n",
       "4  20804                    Keiser Report: Meme Wars (E995)   \n",
       "\n",
       "                    author                                               text  \n",
       "0         David Streitfeld  PALO ALTO, Calif.  —   After years of scorning...  \n",
       "1                      NaN  Russian warships ready to strike terrorists ne...  \n",
       "2            Common Dreams  Videos #NoDAPL: Native American Leaders Vow to...  \n",
       "3            Daniel Victor  If at first you don’t succeed, try a different...  \n",
       "4  Truth Broadcast Network  42 mins ago 1 Views 0 Comments 0 Likes 'For th...  "
      ]
     },
     "execution_count": 4,
     "metadata": {},
     "output_type": "execute_result"
    }
   ],
   "source": [
    "test = pd.read_csv(\"test.csv\")\n",
    "test.head()"
   ]
  },
  {
   "cell_type": "code",
   "execution_count": 5,
   "metadata": {},
   "outputs": [
    {
     "name": "stdout",
     "output_type": "stream",
     "text": [
      "(20800, 5) (5200, 4)\n"
     ]
    }
   ],
   "source": [
    "#check shape\n",
    "\n",
    "print(train.shape, test.shape)"
   ]
  },
  {
   "cell_type": "code",
   "execution_count": 6,
   "metadata": {},
   "outputs": [
    {
     "name": "stdout",
     "output_type": "stream",
     "text": [
      "<class 'pandas.core.frame.DataFrame'>\n",
      "RangeIndex: 20800 entries, 0 to 20799\n",
      "Data columns (total 5 columns):\n",
      " #   Column  Non-Null Count  Dtype \n",
      "---  ------  --------------  ----- \n",
      " 0   id      20800 non-null  int64 \n",
      " 1   title   20242 non-null  object\n",
      " 2   author  18843 non-null  object\n",
      " 3   text    20761 non-null  object\n",
      " 4   label   20800 non-null  int64 \n",
      "dtypes: int64(2), object(3)\n",
      "memory usage: 812.6+ KB\n",
      "None\n",
      "-------------------\n",
      "<class 'pandas.core.frame.DataFrame'>\n",
      "RangeIndex: 5200 entries, 0 to 5199\n",
      "Data columns (total 4 columns):\n",
      " #   Column  Non-Null Count  Dtype \n",
      "---  ------  --------------  ----- \n",
      " 0   id      5200 non-null   int64 \n",
      " 1   title   5078 non-null   object\n",
      " 2   author  4697 non-null   object\n",
      " 3   text    5193 non-null   object\n",
      "dtypes: int64(1), object(3)\n",
      "memory usage: 162.6+ KB\n",
      "None\n"
     ]
    }
   ],
   "source": [
    "#Checking for missing values\n",
    "\n",
    "print(train.info())\n",
    "print(\"-------------------\")\n",
    "print(test.info())"
   ]
  },
  {
   "cell_type": "markdown",
   "metadata": {},
   "source": [
    "There are a lot of missing values. But they are all unique headlines and names of authors so we can fill all of them with empty values as they won't help in prediction. "
   ]
  },
  {
   "cell_type": "markdown",
   "metadata": {},
   "source": [
    "### Data Pre-processing"
   ]
  },
  {
   "cell_type": "code",
   "execution_count": 7,
   "metadata": {},
   "outputs": [],
   "source": [
    "test=test.fillna(' ')\n",
    "train=train.fillna(' ')\n",
    "test['total']=test['title']+' '+test['author']+test['text']\n",
    "train['total']=train['title']+' '+train['author']+train['text']"
   ]
  },
  {
   "cell_type": "code",
   "execution_count": 8,
   "metadata": {},
   "outputs": [
    {
     "name": "stdout",
     "output_type": "stream",
     "text": [
      "<class 'pandas.core.frame.DataFrame'>\n",
      "RangeIndex: 20800 entries, 0 to 20799\n",
      "Data columns (total 6 columns):\n",
      " #   Column  Non-Null Count  Dtype \n",
      "---  ------  --------------  ----- \n",
      " 0   id      20800 non-null  int64 \n",
      " 1   title   20800 non-null  object\n",
      " 2   author  20800 non-null  object\n",
      " 3   text    20800 non-null  object\n",
      " 4   label   20800 non-null  int64 \n",
      " 5   total   20800 non-null  object\n",
      "dtypes: int64(2), object(4)\n",
      "memory usage: 975.1+ KB\n",
      "None\n",
      "-------------------\n",
      "<class 'pandas.core.frame.DataFrame'>\n",
      "RangeIndex: 5200 entries, 0 to 5199\n",
      "Data columns (total 5 columns):\n",
      " #   Column  Non-Null Count  Dtype \n",
      "---  ------  --------------  ----- \n",
      " 0   id      5200 non-null   int64 \n",
      " 1   title   5200 non-null   object\n",
      " 2   author  5200 non-null   object\n",
      " 3   text    5200 non-null   object\n",
      " 4   total   5200 non-null   object\n",
      "dtypes: int64(1), object(4)\n",
      "memory usage: 203.2+ KB\n",
      "None\n"
     ]
    }
   ],
   "source": [
    "print(train.info())\n",
    "print(\"-------------------\")\n",
    "print(test.info())"
   ]
  },
  {
   "cell_type": "markdown",
   "metadata": {},
   "source": [
    "There are no missing values now."
   ]
  },
  {
   "cell_type": "code",
   "execution_count": 9,
   "metadata": {},
   "outputs": [
    {
     "data": {
      "text/html": [
       "<div>\n",
       "<style scoped>\n",
       "    .dataframe tbody tr th:only-of-type {\n",
       "        vertical-align: middle;\n",
       "    }\n",
       "\n",
       "    .dataframe tbody tr th {\n",
       "        vertical-align: top;\n",
       "    }\n",
       "\n",
       "    .dataframe thead th {\n",
       "        text-align: right;\n",
       "    }\n",
       "</style>\n",
       "<table border=\"1\" class=\"dataframe\">\n",
       "  <thead>\n",
       "    <tr style=\"text-align: right;\">\n",
       "      <th></th>\n",
       "      <th>id</th>\n",
       "      <th>title</th>\n",
       "      <th>author</th>\n",
       "      <th>text</th>\n",
       "      <th>label</th>\n",
       "      <th>total</th>\n",
       "    </tr>\n",
       "  </thead>\n",
       "  <tbody>\n",
       "    <tr>\n",
       "      <th>0</th>\n",
       "      <td>0</td>\n",
       "      <td>House Dem Aide: We Didn’t Even See Comey’s Let...</td>\n",
       "      <td>Darrell Lucus</td>\n",
       "      <td>House Dem Aide: We Didn’t Even See Comey’s Let...</td>\n",
       "      <td>1</td>\n",
       "      <td>House Dem Aide: We Didn’t Even See Comey’s Let...</td>\n",
       "    </tr>\n",
       "    <tr>\n",
       "      <th>1</th>\n",
       "      <td>1</td>\n",
       "      <td>FLYNN: Hillary Clinton, Big Woman on Campus - ...</td>\n",
       "      <td>Daniel J. Flynn</td>\n",
       "      <td>Ever get the feeling your life circles the rou...</td>\n",
       "      <td>0</td>\n",
       "      <td>FLYNN: Hillary Clinton, Big Woman on Campus - ...</td>\n",
       "    </tr>\n",
       "    <tr>\n",
       "      <th>2</th>\n",
       "      <td>2</td>\n",
       "      <td>Why the Truth Might Get You Fired</td>\n",
       "      <td>Consortiumnews.com</td>\n",
       "      <td>Why the Truth Might Get You Fired October 29, ...</td>\n",
       "      <td>1</td>\n",
       "      <td>Why the Truth Might Get You Fired Consortiumne...</td>\n",
       "    </tr>\n",
       "    <tr>\n",
       "      <th>3</th>\n",
       "      <td>3</td>\n",
       "      <td>15 Civilians Killed In Single US Airstrike Hav...</td>\n",
       "      <td>Jessica Purkiss</td>\n",
       "      <td>Videos 15 Civilians Killed In Single US Airstr...</td>\n",
       "      <td>1</td>\n",
       "      <td>15 Civilians Killed In Single US Airstrike Hav...</td>\n",
       "    </tr>\n",
       "    <tr>\n",
       "      <th>4</th>\n",
       "      <td>4</td>\n",
       "      <td>Iranian woman jailed for fictional unpublished...</td>\n",
       "      <td>Howard Portnoy</td>\n",
       "      <td>Print \\nAn Iranian woman has been sentenced to...</td>\n",
       "      <td>1</td>\n",
       "      <td>Iranian woman jailed for fictional unpublished...</td>\n",
       "    </tr>\n",
       "    <tr>\n",
       "      <th>5</th>\n",
       "      <td>5</td>\n",
       "      <td>Jackie Mason: Hollywood Would Love Trump if He...</td>\n",
       "      <td>Daniel Nussbaum</td>\n",
       "      <td>In these trying times, Jackie Mason is the Voi...</td>\n",
       "      <td>0</td>\n",
       "      <td>Jackie Mason: Hollywood Would Love Trump if He...</td>\n",
       "    </tr>\n",
       "    <tr>\n",
       "      <th>6</th>\n",
       "      <td>6</td>\n",
       "      <td>Life: Life Of Luxury: Elton John’s 6 Favorite ...</td>\n",
       "      <td></td>\n",
       "      <td>Ever wonder how Britain’s most iconic pop pian...</td>\n",
       "      <td>1</td>\n",
       "      <td>Life: Life Of Luxury: Elton John’s 6 Favorite ...</td>\n",
       "    </tr>\n",
       "    <tr>\n",
       "      <th>7</th>\n",
       "      <td>7</td>\n",
       "      <td>Benoît Hamon Wins French Socialist Party’s Pre...</td>\n",
       "      <td>Alissa J. Rubin</td>\n",
       "      <td>PARIS  —   France chose an idealistic, traditi...</td>\n",
       "      <td>0</td>\n",
       "      <td>Benoît Hamon Wins French Socialist Party’s Pre...</td>\n",
       "    </tr>\n",
       "    <tr>\n",
       "      <th>8</th>\n",
       "      <td>8</td>\n",
       "      <td>Excerpts From a Draft Script for Donald Trump’...</td>\n",
       "      <td></td>\n",
       "      <td>Donald J. Trump is scheduled to make a highly ...</td>\n",
       "      <td>0</td>\n",
       "      <td>Excerpts From a Draft Script for Donald Trump’...</td>\n",
       "    </tr>\n",
       "    <tr>\n",
       "      <th>9</th>\n",
       "      <td>9</td>\n",
       "      <td>A Back-Channel Plan for Ukraine and Russia, Co...</td>\n",
       "      <td>Megan Twohey and Scott Shane</td>\n",
       "      <td>A week before Michael T. Flynn resigned as nat...</td>\n",
       "      <td>0</td>\n",
       "      <td>A Back-Channel Plan for Ukraine and Russia, Co...</td>\n",
       "    </tr>\n",
       "    <tr>\n",
       "      <th>10</th>\n",
       "      <td>10</td>\n",
       "      <td>Obama’s Organizing for Action Partners with So...</td>\n",
       "      <td>Aaron Klein</td>\n",
       "      <td>Organizing for Action, the activist group that...</td>\n",
       "      <td>0</td>\n",
       "      <td>Obama’s Organizing for Action Partners with So...</td>\n",
       "    </tr>\n",
       "    <tr>\n",
       "      <th>11</th>\n",
       "      <td>11</td>\n",
       "      <td>BBC Comedy Sketch \"Real Housewives of ISIS\" Ca...</td>\n",
       "      <td>Chris Tomlinson</td>\n",
       "      <td>The BBC produced spoof on the “Real Housewives...</td>\n",
       "      <td>0</td>\n",
       "      <td>BBC Comedy Sketch \"Real Housewives of ISIS\" Ca...</td>\n",
       "    </tr>\n",
       "    <tr>\n",
       "      <th>12</th>\n",
       "      <td>12</td>\n",
       "      <td>Russian Researchers Discover Secret Nazi Milit...</td>\n",
       "      <td>Amando Flavio</td>\n",
       "      <td>The mystery surrounding The Third Reich and Na...</td>\n",
       "      <td>1</td>\n",
       "      <td>Russian Researchers Discover Secret Nazi Milit...</td>\n",
       "    </tr>\n",
       "    <tr>\n",
       "      <th>13</th>\n",
       "      <td>13</td>\n",
       "      <td>US Officials See No Link Between Trump and Russia</td>\n",
       "      <td>Jason Ditz</td>\n",
       "      <td>Clinton Campaign Demands FBI Affirm Trump's Ru...</td>\n",
       "      <td>1</td>\n",
       "      <td>US Officials See No Link Between Trump and Rus...</td>\n",
       "    </tr>\n",
       "    <tr>\n",
       "      <th>14</th>\n",
       "      <td>14</td>\n",
       "      <td>Re: Yes, There Are Paid Government Trolls On S...</td>\n",
       "      <td>AnotherAnnie</td>\n",
       "      <td>Yes, There Are Paid Government Trolls On Socia...</td>\n",
       "      <td>1</td>\n",
       "      <td>Re: Yes, There Are Paid Government Trolls On S...</td>\n",
       "    </tr>\n",
       "    <tr>\n",
       "      <th>15</th>\n",
       "      <td>15</td>\n",
       "      <td>In Major League Soccer, Argentines Find a Home...</td>\n",
       "      <td>Jack Williams</td>\n",
       "      <td>Guillermo Barros Schelotto was not the first A...</td>\n",
       "      <td>0</td>\n",
       "      <td>In Major League Soccer, Argentines Find a Home...</td>\n",
       "    </tr>\n",
       "    <tr>\n",
       "      <th>16</th>\n",
       "      <td>16</td>\n",
       "      <td>Wells Fargo Chief Abruptly Steps Down - The Ne...</td>\n",
       "      <td>Michael Corkery and Stacy Cowley</td>\n",
       "      <td>The scandal engulfing Wells Fargo toppled its ...</td>\n",
       "      <td>0</td>\n",
       "      <td>Wells Fargo Chief Abruptly Steps Down - The Ne...</td>\n",
       "    </tr>\n",
       "    <tr>\n",
       "      <th>17</th>\n",
       "      <td>17</td>\n",
       "      <td>Anonymous Donor Pays $2.5 Million To Release E...</td>\n",
       "      <td>Starkman</td>\n",
       "      <td>A Caddo Nation tribal leader has just been fre...</td>\n",
       "      <td>1</td>\n",
       "      <td>Anonymous Donor Pays $2.5 Million To Release E...</td>\n",
       "    </tr>\n",
       "    <tr>\n",
       "      <th>18</th>\n",
       "      <td>18</td>\n",
       "      <td>FBI Closes In On Hillary!</td>\n",
       "      <td>The Doc</td>\n",
       "      <td>FBI Closes In On Hillary! Posted on Home » Hea...</td>\n",
       "      <td>1</td>\n",
       "      <td>FBI Closes In On Hillary! The DocFBI Closes In...</td>\n",
       "    </tr>\n",
       "    <tr>\n",
       "      <th>19</th>\n",
       "      <td>19</td>\n",
       "      <td>Chuck Todd: ’BuzzFeed Did Donald Trump a Polit...</td>\n",
       "      <td>Jeff Poor</td>\n",
       "      <td>Wednesday after   Donald Trump’s press confere...</td>\n",
       "      <td>0</td>\n",
       "      <td>Chuck Todd: ’BuzzFeed Did Donald Trump a Polit...</td>\n",
       "    </tr>\n",
       "  </tbody>\n",
       "</table>\n",
       "</div>"
      ],
      "text/plain": [
       "    id                                              title  \\\n",
       "0    0  House Dem Aide: We Didn’t Even See Comey’s Let...   \n",
       "1    1  FLYNN: Hillary Clinton, Big Woman on Campus - ...   \n",
       "2    2                  Why the Truth Might Get You Fired   \n",
       "3    3  15 Civilians Killed In Single US Airstrike Hav...   \n",
       "4    4  Iranian woman jailed for fictional unpublished...   \n",
       "5    5  Jackie Mason: Hollywood Would Love Trump if He...   \n",
       "6    6  Life: Life Of Luxury: Elton John’s 6 Favorite ...   \n",
       "7    7  Benoît Hamon Wins French Socialist Party’s Pre...   \n",
       "8    8  Excerpts From a Draft Script for Donald Trump’...   \n",
       "9    9  A Back-Channel Plan for Ukraine and Russia, Co...   \n",
       "10  10  Obama’s Organizing for Action Partners with So...   \n",
       "11  11  BBC Comedy Sketch \"Real Housewives of ISIS\" Ca...   \n",
       "12  12  Russian Researchers Discover Secret Nazi Milit...   \n",
       "13  13  US Officials See No Link Between Trump and Russia   \n",
       "14  14  Re: Yes, There Are Paid Government Trolls On S...   \n",
       "15  15  In Major League Soccer, Argentines Find a Home...   \n",
       "16  16  Wells Fargo Chief Abruptly Steps Down - The Ne...   \n",
       "17  17  Anonymous Donor Pays $2.5 Million To Release E...   \n",
       "18  18                          FBI Closes In On Hillary!   \n",
       "19  19  Chuck Todd: ’BuzzFeed Did Donald Trump a Polit...   \n",
       "\n",
       "                              author  \\\n",
       "0                      Darrell Lucus   \n",
       "1                    Daniel J. Flynn   \n",
       "2                 Consortiumnews.com   \n",
       "3                    Jessica Purkiss   \n",
       "4                     Howard Portnoy   \n",
       "5                    Daniel Nussbaum   \n",
       "6                                      \n",
       "7                    Alissa J. Rubin   \n",
       "8                                      \n",
       "9       Megan Twohey and Scott Shane   \n",
       "10                       Aaron Klein   \n",
       "11                   Chris Tomlinson   \n",
       "12                     Amando Flavio   \n",
       "13                        Jason Ditz   \n",
       "14                      AnotherAnnie   \n",
       "15                     Jack Williams   \n",
       "16  Michael Corkery and Stacy Cowley   \n",
       "17                          Starkman   \n",
       "18                           The Doc   \n",
       "19                         Jeff Poor   \n",
       "\n",
       "                                                 text  label  \\\n",
       "0   House Dem Aide: We Didn’t Even See Comey’s Let...      1   \n",
       "1   Ever get the feeling your life circles the rou...      0   \n",
       "2   Why the Truth Might Get You Fired October 29, ...      1   \n",
       "3   Videos 15 Civilians Killed In Single US Airstr...      1   \n",
       "4   Print \\nAn Iranian woman has been sentenced to...      1   \n",
       "5   In these trying times, Jackie Mason is the Voi...      0   \n",
       "6   Ever wonder how Britain’s most iconic pop pian...      1   \n",
       "7   PARIS  —   France chose an idealistic, traditi...      0   \n",
       "8   Donald J. Trump is scheduled to make a highly ...      0   \n",
       "9   A week before Michael T. Flynn resigned as nat...      0   \n",
       "10  Organizing for Action, the activist group that...      0   \n",
       "11  The BBC produced spoof on the “Real Housewives...      0   \n",
       "12  The mystery surrounding The Third Reich and Na...      1   \n",
       "13  Clinton Campaign Demands FBI Affirm Trump's Ru...      1   \n",
       "14  Yes, There Are Paid Government Trolls On Socia...      1   \n",
       "15  Guillermo Barros Schelotto was not the first A...      0   \n",
       "16  The scandal engulfing Wells Fargo toppled its ...      0   \n",
       "17  A Caddo Nation tribal leader has just been fre...      1   \n",
       "18  FBI Closes In On Hillary! Posted on Home » Hea...      1   \n",
       "19  Wednesday after   Donald Trump’s press confere...      0   \n",
       "\n",
       "                                                total  \n",
       "0   House Dem Aide: We Didn’t Even See Comey’s Let...  \n",
       "1   FLYNN: Hillary Clinton, Big Woman on Campus - ...  \n",
       "2   Why the Truth Might Get You Fired Consortiumne...  \n",
       "3   15 Civilians Killed In Single US Airstrike Hav...  \n",
       "4   Iranian woman jailed for fictional unpublished...  \n",
       "5   Jackie Mason: Hollywood Would Love Trump if He...  \n",
       "6   Life: Life Of Luxury: Elton John’s 6 Favorite ...  \n",
       "7   Benoît Hamon Wins French Socialist Party’s Pre...  \n",
       "8   Excerpts From a Draft Script for Donald Trump’...  \n",
       "9   A Back-Channel Plan for Ukraine and Russia, Co...  \n",
       "10  Obama’s Organizing for Action Partners with So...  \n",
       "11  BBC Comedy Sketch \"Real Housewives of ISIS\" Ca...  \n",
       "12  Russian Researchers Discover Secret Nazi Milit...  \n",
       "13  US Officials See No Link Between Trump and Rus...  \n",
       "14  Re: Yes, There Are Paid Government Trolls On S...  \n",
       "15  In Major League Soccer, Argentines Find a Home...  \n",
       "16  Wells Fargo Chief Abruptly Steps Down - The Ne...  \n",
       "17  Anonymous Donor Pays $2.5 Million To Release E...  \n",
       "18  FBI Closes In On Hillary! The DocFBI Closes In...  \n",
       "19  Chuck Todd: ’BuzzFeed Did Donald Trump a Polit...  "
      ]
     },
     "execution_count": 9,
     "metadata": {},
     "output_type": "execute_result"
    }
   ],
   "source": [
    "train.head(20)"
   ]
  },
  {
   "cell_type": "code",
   "execution_count": 10,
   "metadata": {},
   "outputs": [
    {
     "data": {
      "text/html": [
       "<div>\n",
       "<style scoped>\n",
       "    .dataframe tbody tr th:only-of-type {\n",
       "        vertical-align: middle;\n",
       "    }\n",
       "\n",
       "    .dataframe tbody tr th {\n",
       "        vertical-align: top;\n",
       "    }\n",
       "\n",
       "    .dataframe thead th {\n",
       "        text-align: right;\n",
       "    }\n",
       "</style>\n",
       "<table border=\"1\" class=\"dataframe\">\n",
       "  <thead>\n",
       "    <tr style=\"text-align: right;\">\n",
       "      <th></th>\n",
       "      <th>id</th>\n",
       "      <th>title</th>\n",
       "      <th>author</th>\n",
       "      <th>text</th>\n",
       "      <th>total</th>\n",
       "    </tr>\n",
       "  </thead>\n",
       "  <tbody>\n",
       "    <tr>\n",
       "      <th>0</th>\n",
       "      <td>20800</td>\n",
       "      <td>Specter of Trump Loosens Tongues, if Not Purse...</td>\n",
       "      <td>David Streitfeld</td>\n",
       "      <td>PALO ALTO, Calif.  —   After years of scorning...</td>\n",
       "      <td>Specter of Trump Loosens Tongues, if Not Purse...</td>\n",
       "    </tr>\n",
       "    <tr>\n",
       "      <th>1</th>\n",
       "      <td>20801</td>\n",
       "      <td>Russian warships ready to strike terrorists ne...</td>\n",
       "      <td></td>\n",
       "      <td>Russian warships ready to strike terrorists ne...</td>\n",
       "      <td>Russian warships ready to strike terrorists ne...</td>\n",
       "    </tr>\n",
       "    <tr>\n",
       "      <th>2</th>\n",
       "      <td>20802</td>\n",
       "      <td>#NoDAPL: Native American Leaders Vow to Stay A...</td>\n",
       "      <td>Common Dreams</td>\n",
       "      <td>Videos #NoDAPL: Native American Leaders Vow to...</td>\n",
       "      <td>#NoDAPL: Native American Leaders Vow to Stay A...</td>\n",
       "    </tr>\n",
       "    <tr>\n",
       "      <th>3</th>\n",
       "      <td>20803</td>\n",
       "      <td>Tim Tebow Will Attempt Another Comeback, This ...</td>\n",
       "      <td>Daniel Victor</td>\n",
       "      <td>If at first you don’t succeed, try a different...</td>\n",
       "      <td>Tim Tebow Will Attempt Another Comeback, This ...</td>\n",
       "    </tr>\n",
       "    <tr>\n",
       "      <th>4</th>\n",
       "      <td>20804</td>\n",
       "      <td>Keiser Report: Meme Wars (E995)</td>\n",
       "      <td>Truth Broadcast Network</td>\n",
       "      <td>42 mins ago 1 Views 0 Comments 0 Likes 'For th...</td>\n",
       "      <td>Keiser Report: Meme Wars (E995) Truth Broadcas...</td>\n",
       "    </tr>\n",
       "    <tr>\n",
       "      <th>5</th>\n",
       "      <td>20805</td>\n",
       "      <td>Trump is USA's antique hero. Clinton will be n...</td>\n",
       "      <td></td>\n",
       "      <td>Trump is USA's antique hero. Clinton will be n...</td>\n",
       "      <td>Trump is USA's antique hero. Clinton will be n...</td>\n",
       "    </tr>\n",
       "    <tr>\n",
       "      <th>6</th>\n",
       "      <td>20806</td>\n",
       "      <td>Pelosi Calls for FBI Investigation to Find Out...</td>\n",
       "      <td>Pam Key</td>\n",
       "      <td>Sunday on NBC’s “Meet the Press,” House Minori...</td>\n",
       "      <td>Pelosi Calls for FBI Investigation to Find Out...</td>\n",
       "    </tr>\n",
       "    <tr>\n",
       "      <th>7</th>\n",
       "      <td>20807</td>\n",
       "      <td>Weekly Featured Profile – Randy Shannon</td>\n",
       "      <td>Trevor Loudon</td>\n",
       "      <td>You are here: Home / *Articles of the Bound* /...</td>\n",
       "      <td>Weekly Featured Profile – Randy Shannon Trevor...</td>\n",
       "    </tr>\n",
       "    <tr>\n",
       "      <th>8</th>\n",
       "      <td>20808</td>\n",
       "      <td>Urban Population Booms Will Make Climate Chang...</td>\n",
       "      <td></td>\n",
       "      <td>Urban Population Booms Will Make Climate Chang...</td>\n",
       "      <td>Urban Population Booms Will Make Climate Chang...</td>\n",
       "    </tr>\n",
       "    <tr>\n",
       "      <th>9</th>\n",
       "      <td>20809</td>\n",
       "      <td></td>\n",
       "      <td>cognitive dissident</td>\n",
       "      <td>don't we have the receipt?</td>\n",
       "      <td>cognitive dissidentdon't we have the receipt?</td>\n",
       "    </tr>\n",
       "    <tr>\n",
       "      <th>10</th>\n",
       "      <td>20810</td>\n",
       "      <td>184 U.S. generals and admirals endorse Trump f...</td>\n",
       "      <td>Dr. Eowyn</td>\n",
       "      <td>Have you seen that pro-Hillary TV ad of disgra...</td>\n",
       "      <td>184 U.S. generals and admirals endorse Trump f...</td>\n",
       "    </tr>\n",
       "    <tr>\n",
       "      <th>11</th>\n",
       "      <td>20811</td>\n",
       "      <td>“Working Class Hero” by John Brennon</td>\n",
       "      <td>Doug Diamond</td>\n",
       "      <td>Source: CNBC, article by Robert Ferris Arctic ...</td>\n",
       "      <td>“Working Class Hero” by John Brennon Doug Diam...</td>\n",
       "    </tr>\n",
       "    <tr>\n",
       "      <th>12</th>\n",
       "      <td>20812</td>\n",
       "      <td>The Rise of Mandatory Vaccinations Means the E...</td>\n",
       "      <td>Shaun Bradley</td>\n",
       "      <td>Written by Shaun Bradley   Mandatory vaccinati...</td>\n",
       "      <td>The Rise of Mandatory Vaccinations Means the E...</td>\n",
       "    </tr>\n",
       "    <tr>\n",
       "      <th>13</th>\n",
       "      <td>20813</td>\n",
       "      <td>Communists Terrorize Small Business</td>\n",
       "      <td>Steve Watson</td>\n",
       "      <td>Store Communists Terrorize Small Business The ...</td>\n",
       "      <td>Communists Terrorize Small Business Steve Wats...</td>\n",
       "    </tr>\n",
       "    <tr>\n",
       "      <th>14</th>\n",
       "      <td>20814</td>\n",
       "      <td>Computer Programmer Comes Forward, Admits To B...</td>\n",
       "      <td>Usa News Flash</td>\n",
       "      <td>\\nVIA Conservative Tribune \\nIn 2000, computer...</td>\n",
       "      <td>Computer Programmer Comes Forward, Admits To B...</td>\n",
       "    </tr>\n",
       "    <tr>\n",
       "      <th>15</th>\n",
       "      <td>20815</td>\n",
       "      <td>Thieves Take a Chunk of Change, All 221 Pounds...</td>\n",
       "      <td>Melissa Eddy</td>\n",
       "      <td>BERLIN  —   You could never palm it, flip it o...</td>\n",
       "      <td>Thieves Take a Chunk of Change, All 221 Pounds...</td>\n",
       "    </tr>\n",
       "    <tr>\n",
       "      <th>16</th>\n",
       "      <td>20816</td>\n",
       "      <td>New England Patriots’ Owner, Still Sore at N.F...</td>\n",
       "      <td>Ken Belson and Ben Shpigel</td>\n",
       "      <td>FOXBOROUGH, Mass.  —   The N. F. L. likes port...</td>\n",
       "      <td>New England Patriots’ Owner, Still Sore at N.F...</td>\n",
       "    </tr>\n",
       "    <tr>\n",
       "      <th>17</th>\n",
       "      <td>20817</td>\n",
       "      <td>College Republicans, YAF Sue Berkeley over Ann...</td>\n",
       "      <td>Tom Ciccotta</td>\n",
       "      <td>The Berkeley College Republicans and the Young...</td>\n",
       "      <td>College Republicans, YAF Sue Berkeley over Ann...</td>\n",
       "    </tr>\n",
       "    <tr>\n",
       "      <th>18</th>\n",
       "      <td>20818</td>\n",
       "      <td>Trump Melts Down And Accuses The US Postal Ser...</td>\n",
       "      <td>Jason Easley</td>\n",
       "      <td>Trump warned his supporters that the US Postal...</td>\n",
       "      <td>Trump Melts Down And Accuses The US Postal Ser...</td>\n",
       "    </tr>\n",
       "    <tr>\n",
       "      <th>19</th>\n",
       "      <td>20819</td>\n",
       "      <td>Visiting Madagascar? Leave Red Swimsuits (and ...</td>\n",
       "      <td>Bryant Rousseau</td>\n",
       "      <td>If you visit a certain beach in northeastern M...</td>\n",
       "      <td>Visiting Madagascar? Leave Red Swimsuits (and ...</td>\n",
       "    </tr>\n",
       "  </tbody>\n",
       "</table>\n",
       "</div>"
      ],
      "text/plain": [
       "       id                                              title  \\\n",
       "0   20800  Specter of Trump Loosens Tongues, if Not Purse...   \n",
       "1   20801  Russian warships ready to strike terrorists ne...   \n",
       "2   20802  #NoDAPL: Native American Leaders Vow to Stay A...   \n",
       "3   20803  Tim Tebow Will Attempt Another Comeback, This ...   \n",
       "4   20804                    Keiser Report: Meme Wars (E995)   \n",
       "5   20805  Trump is USA's antique hero. Clinton will be n...   \n",
       "6   20806  Pelosi Calls for FBI Investigation to Find Out...   \n",
       "7   20807            Weekly Featured Profile – Randy Shannon   \n",
       "8   20808  Urban Population Booms Will Make Climate Chang...   \n",
       "9   20809                                                      \n",
       "10  20810  184 U.S. generals and admirals endorse Trump f...   \n",
       "11  20811               “Working Class Hero” by John Brennon   \n",
       "12  20812  The Rise of Mandatory Vaccinations Means the E...   \n",
       "13  20813                Communists Terrorize Small Business   \n",
       "14  20814  Computer Programmer Comes Forward, Admits To B...   \n",
       "15  20815  Thieves Take a Chunk of Change, All 221 Pounds...   \n",
       "16  20816  New England Patriots’ Owner, Still Sore at N.F...   \n",
       "17  20817  College Republicans, YAF Sue Berkeley over Ann...   \n",
       "18  20818  Trump Melts Down And Accuses The US Postal Ser...   \n",
       "19  20819  Visiting Madagascar? Leave Red Swimsuits (and ...   \n",
       "\n",
       "                        author  \\\n",
       "0             David Streitfeld   \n",
       "1                                \n",
       "2                Common Dreams   \n",
       "3                Daniel Victor   \n",
       "4      Truth Broadcast Network   \n",
       "5                                \n",
       "6                      Pam Key   \n",
       "7                Trevor Loudon   \n",
       "8                                \n",
       "9          cognitive dissident   \n",
       "10                   Dr. Eowyn   \n",
       "11                Doug Diamond   \n",
       "12               Shaun Bradley   \n",
       "13                Steve Watson   \n",
       "14              Usa News Flash   \n",
       "15                Melissa Eddy   \n",
       "16  Ken Belson and Ben Shpigel   \n",
       "17                Tom Ciccotta   \n",
       "18                Jason Easley   \n",
       "19             Bryant Rousseau   \n",
       "\n",
       "                                                 text  \\\n",
       "0   PALO ALTO, Calif.  —   After years of scorning...   \n",
       "1   Russian warships ready to strike terrorists ne...   \n",
       "2   Videos #NoDAPL: Native American Leaders Vow to...   \n",
       "3   If at first you don’t succeed, try a different...   \n",
       "4   42 mins ago 1 Views 0 Comments 0 Likes 'For th...   \n",
       "5   Trump is USA's antique hero. Clinton will be n...   \n",
       "6   Sunday on NBC’s “Meet the Press,” House Minori...   \n",
       "7   You are here: Home / *Articles of the Bound* /...   \n",
       "8   Urban Population Booms Will Make Climate Chang...   \n",
       "9                          don't we have the receipt?   \n",
       "10  Have you seen that pro-Hillary TV ad of disgra...   \n",
       "11  Source: CNBC, article by Robert Ferris Arctic ...   \n",
       "12  Written by Shaun Bradley   Mandatory vaccinati...   \n",
       "13  Store Communists Terrorize Small Business The ...   \n",
       "14  \\nVIA Conservative Tribune \\nIn 2000, computer...   \n",
       "15  BERLIN  —   You could never palm it, flip it o...   \n",
       "16  FOXBOROUGH, Mass.  —   The N. F. L. likes port...   \n",
       "17  The Berkeley College Republicans and the Young...   \n",
       "18  Trump warned his supporters that the US Postal...   \n",
       "19  If you visit a certain beach in northeastern M...   \n",
       "\n",
       "                                                total  \n",
       "0   Specter of Trump Loosens Tongues, if Not Purse...  \n",
       "1   Russian warships ready to strike terrorists ne...  \n",
       "2   #NoDAPL: Native American Leaders Vow to Stay A...  \n",
       "3   Tim Tebow Will Attempt Another Comeback, This ...  \n",
       "4   Keiser Report: Meme Wars (E995) Truth Broadcas...  \n",
       "5   Trump is USA's antique hero. Clinton will be n...  \n",
       "6   Pelosi Calls for FBI Investigation to Find Out...  \n",
       "7   Weekly Featured Profile – Randy Shannon Trevor...  \n",
       "8   Urban Population Booms Will Make Climate Chang...  \n",
       "9       cognitive dissidentdon't we have the receipt?  \n",
       "10  184 U.S. generals and admirals endorse Trump f...  \n",
       "11  “Working Class Hero” by John Brennon Doug Diam...  \n",
       "12  The Rise of Mandatory Vaccinations Means the E...  \n",
       "13  Communists Terrorize Small Business Steve Wats...  \n",
       "14  Computer Programmer Comes Forward, Admits To B...  \n",
       "15  Thieves Take a Chunk of Change, All 221 Pounds...  \n",
       "16  New England Patriots’ Owner, Still Sore at N.F...  \n",
       "17  College Republicans, YAF Sue Berkeley over Ann...  \n",
       "18  Trump Melts Down And Accuses The US Postal Ser...  \n",
       "19  Visiting Madagascar? Leave Red Swimsuits (and ...  "
      ]
     },
     "execution_count": 10,
     "metadata": {},
     "output_type": "execute_result"
    }
   ],
   "source": [
    "test.head(20)"
   ]
  },
  {
   "cell_type": "markdown",
   "metadata": {},
   "source": [
    "### TF-IDF\n",
    "\n",
    "This is used to determine how important a word is to the document. Here we use \"smooth_idf = False\" because the terms that occur in all the records in the training set should not be entirely ignored. \n",
    "\n",
    "Reference: \n",
    "\n",
    "1. https://scikit-learn.org/stable/modules/generated/sklearn.feature_extraction.text.TfidfTransformer.html\n",
    "\n",
    "### CountVectorizer\n",
    "\n",
    "This is used to encode words into integers. This converts the text records into token counts\n",
    "\n",
    "Reference: \n",
    "\n",
    "1. https://www.educative.io/edpresso/countvectorizer-in-python\n",
    "2. https://www.geeksforgeeks.org/using-countvectorizer-to-extracting-features-from-text/"
   ]
  },
  {
   "cell_type": "code",
   "execution_count": 11,
   "metadata": {},
   "outputs": [],
   "source": [
    "from sklearn.feature_extraction.text import TfidfTransformer\n",
    "from sklearn.feature_extraction.text import CountVectorizer\n",
    "\n",
    "transformer = TfidfTransformer(smooth_idf=False)\n",
    "count_vectorizer = CountVectorizer(ngram_range=(1, 2))\n",
    "counts = count_vectorizer.fit_transform(train['total'].values)\n",
    "tfidf = transformer.fit_transform(counts)"
   ]
  },
  {
   "cell_type": "code",
   "execution_count": 13,
   "metadata": {},
   "outputs": [
    {
     "data": {
      "text/plain": [
       "<20800x3611325 sparse matrix of type '<class 'numpy.float64'>'\n",
       "\twith 20406542 stored elements in Compressed Sparse Row format>"
      ]
     },
     "execution_count": 13,
     "metadata": {},
     "output_type": "execute_result"
    }
   ],
   "source": [
    "tfidf"
   ]
  },
  {
   "cell_type": "code",
   "execution_count": 12,
   "metadata": {},
   "outputs": [],
   "source": [
    "target = train['label'].values\n",
    "test_counts = count_vectorizer.transform(test['total'].values)\n",
    "test_tfidf = transformer.fit_transform(test_counts)"
   ]
  },
  {
   "cell_type": "code",
   "execution_count": 14,
   "metadata": {},
   "outputs": [
    {
     "data": {
      "text/plain": [
       "<5200x3611325 sparse matrix of type '<class 'numpy.float64'>'\n",
       "\twith 4551728 stored elements in Compressed Sparse Row format>"
      ]
     },
     "execution_count": 14,
     "metadata": {},
     "output_type": "execute_result"
    }
   ],
   "source": [
    "test_tfidf"
   ]
  },
  {
   "cell_type": "code",
   "execution_count": 10,
   "metadata": {},
   "outputs": [],
   "source": [
    "#splitting into training and test set \n",
    "from sklearn.model_selection import train_test_split\n",
    "X_train, X_test, y_train, y_test = train_test_split(tfidf, target, random_state=0)"
   ]
  },
  {
   "cell_type": "markdown",
   "metadata": {},
   "source": [
    "### Fitting into a model"
   ]
  },
  {
   "cell_type": "markdown",
   "metadata": {},
   "source": [
    "#### Logistic Regression "
   ]
  },
  {
   "cell_type": "code",
   "execution_count": 11,
   "metadata": {},
   "outputs": [
    {
     "name": "stdout",
     "output_type": "stream",
     "text": [
      "[[2398  166]\n",
      " [ 120 2516]]\n",
      "              precision    recall  f1-score   support\n",
      "\n",
      "           0       0.95      0.94      0.94      2564\n",
      "           1       0.94      0.95      0.95      2636\n",
      "\n",
      "    accuracy                           0.94      5200\n",
      "   macro avg       0.95      0.94      0.94      5200\n",
      "weighted avg       0.95      0.94      0.94      5200\n",
      "\n"
     ]
    }
   ],
   "source": [
    "from sklearn.linear_model import LogisticRegression\n",
    "from sklearn.metrics import confusion_matrix\n",
    "from sklearn.metrics import classification_report\n",
    "\n",
    "logreg = LogisticRegression()\n",
    "logreg.fit(X_train, y_train)\n",
    "\n",
    "y_pred = logreg.predict(X_test)\n",
    "\n",
    "print(confusion_matrix(y_test,y_pred))\n",
    "print(classification_report(y_test,y_pred))"
   ]
  },
  {
   "cell_type": "code",
   "execution_count": 12,
   "metadata": {},
   "outputs": [
    {
     "name": "stdout",
     "output_type": "stream",
     "text": [
      "[0.93814103 0.94551282 0.94839744 0.94134615 0.94647436]\n"
     ]
    }
   ],
   "source": [
    "#cross validation - 5 fold\n",
    "\n",
    "from sklearn.model_selection import cross_val_score\n",
    "print(cross_val_score(logreg, X_train, y_train, cv=5))"
   ]
  },
  {
   "cell_type": "markdown",
   "metadata": {},
   "source": [
    "#### Decision Tree Classifier"
   ]
  },
  {
   "cell_type": "code",
   "execution_count": 13,
   "metadata": {},
   "outputs": [
    {
     "name": "stdout",
     "output_type": "stream",
     "text": [
      "[[2460  104]\n",
      " [  89 2547]]\n",
      "              precision    recall  f1-score   support\n",
      "\n",
      "           0       0.97      0.96      0.96      2564\n",
      "           1       0.96      0.97      0.96      2636\n",
      "\n",
      "    accuracy                           0.96      5200\n",
      "   macro avg       0.96      0.96      0.96      5200\n",
      "weighted avg       0.96      0.96      0.96      5200\n",
      "\n"
     ]
    }
   ],
   "source": [
    "from sklearn.tree import DecisionTreeClassifier\n",
    "\n",
    "dec_tree = DecisionTreeClassifier()\n",
    "dec_tree.fit(X_train, y_train)\n",
    "\n",
    "y_pred = dec_tree.predict(X_test)\n",
    "\n",
    "print(confusion_matrix(y_test,y_pred))\n",
    "print(classification_report(y_test,y_pred))"
   ]
  },
  {
   "cell_type": "code",
   "execution_count": 14,
   "metadata": {},
   "outputs": [
    {
     "name": "stdout",
     "output_type": "stream",
     "text": [
      "[0.96057692 0.9625     0.96153846 0.96346154 0.96570513]\n"
     ]
    }
   ],
   "source": [
    "#cross validation - 5 fold\n",
    "\n",
    "print(cross_val_score(dec_tree, X_train, y_train, cv=5))"
   ]
  },
  {
   "cell_type": "markdown",
   "metadata": {},
   "source": [
    "#### Random Forest Classifier"
   ]
  },
  {
   "cell_type": "code",
   "execution_count": 15,
   "metadata": {},
   "outputs": [
    {
     "name": "stdout",
     "output_type": "stream",
     "text": [
      "[[2490   74]\n",
      " [  63 2573]]\n",
      "              precision    recall  f1-score   support\n",
      "\n",
      "           0       0.98      0.97      0.97      2564\n",
      "           1       0.97      0.98      0.97      2636\n",
      "\n",
      "    accuracy                           0.97      5200\n",
      "   macro avg       0.97      0.97      0.97      5200\n",
      "weighted avg       0.97      0.97      0.97      5200\n",
      "\n"
     ]
    }
   ],
   "source": [
    "from sklearn.ensemble import RandomForestClassifier\n",
    "\n",
    "rfc = RandomForestClassifier(n_estimators = 200, min_samples_leaf = 3, max_features = 0.5, n_jobs = -1)\n",
    "rfc.fit(X_train, y_train)\n",
    "\n",
    "y_pred = rfc.predict(X_test)\n",
    "\n",
    "print(confusion_matrix(y_test,y_pred))\n",
    "print(classification_report(y_test,y_pred))"
   ]
  },
  {
   "cell_type": "code",
   "execution_count": 16,
   "metadata": {},
   "outputs": [
    {
     "name": "stdout",
     "output_type": "stream",
     "text": [
      "[0.97403846 0.96826923 0.97307692 0.97628205 0.975     ]\n"
     ]
    }
   ],
   "source": [
    "#cross validation - 5 fold\n",
    "\n",
    "print(cross_val_score(rfc, X_train, y_train, cv=5))"
   ]
  },
  {
   "cell_type": "markdown",
   "metadata": {},
   "source": [
    "#### Naive Bayes"
   ]
  },
  {
   "cell_type": "code",
   "execution_count": 17,
   "metadata": {},
   "outputs": [
    {
     "name": "stdout",
     "output_type": "stream",
     "text": [
      "[[2561    3]\n",
      " [1126 1510]]\n",
      "              precision    recall  f1-score   support\n",
      "\n",
      "           0       0.69      1.00      0.82      2564\n",
      "           1       1.00      0.57      0.73      2636\n",
      "\n",
      "    accuracy                           0.78      5200\n",
      "   macro avg       0.85      0.79      0.77      5200\n",
      "weighted avg       0.85      0.78      0.77      5200\n",
      "\n"
     ]
    }
   ],
   "source": [
    "from sklearn.naive_bayes import MultinomialNB\n",
    "\n",
    "mnb = MultinomialNB()\n",
    "mnb.fit(X_train, y_train)\n",
    "\n",
    "y_pred = mnb.predict(X_test)\n",
    "\n",
    "print(confusion_matrix(y_test,y_pred))\n",
    "print(classification_report(y_test,y_pred))"
   ]
  },
  {
   "cell_type": "code",
   "execution_count": 18,
   "metadata": {},
   "outputs": [
    {
     "name": "stdout",
     "output_type": "stream",
     "text": [
      "[0.77532051 0.75833333 0.77532051 0.77211538 0.77307692]\n"
     ]
    }
   ],
   "source": [
    "#cross validation - 5 fold\n",
    "\n",
    "print(cross_val_score(mnb, X_train, y_train, cv=5))"
   ]
  },
  {
   "cell_type": "markdown",
   "metadata": {},
   "source": [
    "#### KNN Classifier"
   ]
  },
  {
   "cell_type": "code",
   "execution_count": 19,
   "metadata": {},
   "outputs": [
    {
     "name": "stdout",
     "output_type": "stream",
     "text": [
      "[[1780  784]\n",
      " [ 354 2282]]\n",
      "              precision    recall  f1-score   support\n",
      "\n",
      "           0       0.83      0.69      0.76      2564\n",
      "           1       0.74      0.87      0.80      2636\n",
      "\n",
      "    accuracy                           0.78      5200\n",
      "   macro avg       0.79      0.78      0.78      5200\n",
      "weighted avg       0.79      0.78      0.78      5200\n",
      "\n"
     ]
    }
   ],
   "source": [
    "from sklearn.neighbors import KNeighborsClassifier\n",
    "\n",
    "knn = KNeighborsClassifier(n_neighbors = 3)\n",
    "knn.fit(X_train, y_train)\n",
    "\n",
    "y_pred = knn.predict(X_test)\n",
    "\n",
    "print(confusion_matrix(y_test,y_pred))\n",
    "print(classification_report(y_test,y_pred))"
   ]
  },
  {
   "cell_type": "code",
   "execution_count": 20,
   "metadata": {},
   "outputs": [
    {
     "name": "stdout",
     "output_type": "stream",
     "text": [
      "[0.76442308 0.78012821 0.79935897 0.7849359  0.78365385]\n"
     ]
    }
   ],
   "source": [
    "#cross validation - 5 fold\n",
    "\n",
    "print(cross_val_score(knn, X_train, y_train, cv=5))"
   ]
  },
  {
   "cell_type": "markdown",
   "metadata": {},
   "source": [
    "### Checking accuracy scores of test set"
   ]
  },
  {
   "cell_type": "code",
   "execution_count": 21,
   "metadata": {},
   "outputs": [
    {
     "name": "stdout",
     "output_type": "stream",
     "text": [
      "94.5\n"
     ]
    }
   ],
   "source": [
    "#Logistic Regression\n",
    "acc_logreg = logreg.score(X_test, y_test)*100\n",
    "print(acc_logreg)"
   ]
  },
  {
   "cell_type": "code",
   "execution_count": 22,
   "metadata": {},
   "outputs": [
    {
     "name": "stdout",
     "output_type": "stream",
     "text": [
      "96.28846153846153\n"
     ]
    }
   ],
   "source": [
    "#Decision Tree Classifier\n",
    "acc_dec_tree = dec_tree.score(X_test, y_test)*100\n",
    "print(acc_dec_tree)"
   ]
  },
  {
   "cell_type": "code",
   "execution_count": 23,
   "metadata": {},
   "outputs": [
    {
     "name": "stdout",
     "output_type": "stream",
     "text": [
      "97.36538461538461\n"
     ]
    }
   ],
   "source": [
    "#Random Forest Classifier\n",
    "acc_rfc = rfc.score(X_test, y_test)*100\n",
    "print(acc_rfc)"
   ]
  },
  {
   "cell_type": "code",
   "execution_count": 24,
   "metadata": {},
   "outputs": [
    {
     "name": "stdout",
     "output_type": "stream",
     "text": [
      "78.28846153846155\n"
     ]
    }
   ],
   "source": [
    "#Naive Bayes\n",
    "acc_mnb = mnb.score(X_test, y_test)*100\n",
    "print(acc_mnb)"
   ]
  },
  {
   "cell_type": "code",
   "execution_count": 25,
   "metadata": {},
   "outputs": [
    {
     "name": "stdout",
     "output_type": "stream",
     "text": [
      "78.11538461538461\n"
     ]
    }
   ],
   "source": [
    "#KNN Classifier\n",
    "acc_knn = knn.score(X_test, y_test)*100\n",
    "print(acc_knn)"
   ]
  },
  {
   "cell_type": "markdown",
   "metadata": {},
   "source": [
    "### Sorting according to test data accuracy"
   ]
  },
  {
   "cell_type": "code",
   "execution_count": 26,
   "metadata": {},
   "outputs": [
    {
     "data": {
      "text/html": [
       "<div>\n",
       "<style scoped>\n",
       "    .dataframe tbody tr th:only-of-type {\n",
       "        vertical-align: middle;\n",
       "    }\n",
       "\n",
       "    .dataframe tbody tr th {\n",
       "        vertical-align: top;\n",
       "    }\n",
       "\n",
       "    .dataframe thead th {\n",
       "        text-align: right;\n",
       "    }\n",
       "</style>\n",
       "<table border=\"1\" class=\"dataframe\">\n",
       "  <thead>\n",
       "    <tr style=\"text-align: right;\">\n",
       "      <th></th>\n",
       "      <th>Model</th>\n",
       "      <th>Score</th>\n",
       "    </tr>\n",
       "  </thead>\n",
       "  <tbody>\n",
       "    <tr>\n",
       "      <th>2</th>\n",
       "      <td>Random Forest</td>\n",
       "      <td>97.365385</td>\n",
       "    </tr>\n",
       "    <tr>\n",
       "      <th>1</th>\n",
       "      <td>Decision Tree</td>\n",
       "      <td>96.288462</td>\n",
       "    </tr>\n",
       "    <tr>\n",
       "      <th>0</th>\n",
       "      <td>Logistic Regression</td>\n",
       "      <td>94.500000</td>\n",
       "    </tr>\n",
       "    <tr>\n",
       "      <th>4</th>\n",
       "      <td>Naive Bayes</td>\n",
       "      <td>78.288462</td>\n",
       "    </tr>\n",
       "    <tr>\n",
       "      <th>3</th>\n",
       "      <td>KNN</td>\n",
       "      <td>78.115385</td>\n",
       "    </tr>\n",
       "  </tbody>\n",
       "</table>\n",
       "</div>"
      ],
      "text/plain": [
       "                 Model      Score\n",
       "2        Random Forest  97.365385\n",
       "1        Decision Tree  96.288462\n",
       "0  Logistic Regression  94.500000\n",
       "4          Naive Bayes  78.288462\n",
       "3                  KNN  78.115385"
      ]
     },
     "execution_count": 26,
     "metadata": {},
     "output_type": "execute_result"
    }
   ],
   "source": [
    "models = pd.DataFrame({\n",
    "'Model': ['Logistic Regression', 'Decision Tree', 'Random Forest', 'KNN', 'Naive Bayes'],\n",
    "'Score': [acc_logreg, acc_dec_tree, acc_rfc, acc_knn, acc_mnb]})\n",
    "models.sort_values(by='Score', ascending=False)"
   ]
  },
  {
   "cell_type": "markdown",
   "metadata": {},
   "source": [
    "### Predicted output"
   ]
  },
  {
   "cell_type": "code",
   "execution_count": 27,
   "metadata": {},
   "outputs": [],
   "source": [
    "test_id = test[\"id\"]\n",
    "submission = pd.DataFrame({\"id\": test_id, \"label\": rfc.predict(X_test)})\n",
    "submission.to_csv('D:\\\\Naveen\\\\Interview Assignments\\\\TomTom\\\\submission.csv', index=False)"
   ]
  },
  {
   "cell_type": "code",
   "execution_count": null,
   "metadata": {},
   "outputs": [],
   "source": []
  }
 ],
 "metadata": {
  "kernelspec": {
   "display_name": "Python 3",
   "language": "python",
   "name": "python3"
  },
  "language_info": {
   "codemirror_mode": {
    "name": "ipython",
    "version": 3
   },
   "file_extension": ".py",
   "mimetype": "text/x-python",
   "name": "python",
   "nbconvert_exporter": "python",
   "pygments_lexer": "ipython3",
   "version": "3.8.3"
  }
 },
 "nbformat": 4,
 "nbformat_minor": 4
}
